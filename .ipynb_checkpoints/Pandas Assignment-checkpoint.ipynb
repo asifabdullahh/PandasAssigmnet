{
 "cells": [
  {
   "cell_type": "code",
   "execution_count": 1,
   "metadata": {},
   "outputs": [],
   "source": [
    "import numpy as np\n",
    "import pandas as pd"
   ]
  },
  {
   "cell_type": "code",
   "execution_count": 8,
   "metadata": {},
   "outputs": [
    {
     "name": "stdout",
     "output_type": "stream",
     "text": [
      "   Unnamed: 0       State  TotalPop             Hispanic                White  \\\n",
      "0           0     Alabama   4830620  3.7516156462584975%     61.878656462585%   \n",
      "1           1      Alaska    733375   5.909580838323351%  60.910179640718574%   \n",
      "2           2     Arizona   6641928  29.565921052631502%  57.120000000000026%   \n",
      "3           3    Arkansas   2958208   6.215474452554738%   71.13781021897813%   \n",
      "4           4  California  38421464  37.291874687968054%   40.21578881677474%   \n",
      "5           5    Colorado   5278906   20.78438003220608%   69.89557165861504%   \n",
      "\n",
      "                 Black                Native                Asian  \\\n",
      "0   31.25297619047618%   0.4532312925170065%  1.0502551020408146%   \n",
      "1  2.8485029940119775%    16.39101796407186%   5.450299401197604%   \n",
      "2  3.8509868421052658%     4.35506578947368%   2.876578947368419%   \n",
      "3  18.968759124087573%   0.5229197080291965%  1.1423357664233578%   \n",
      "4   5.677396405391911%  0.40529206190713685%  13.052234148776776%   \n",
      "5   3.546376811594201%   0.5738325281803548%   2.661996779388082%   \n",
      "\n",
      "                Pacific               Income            GenderPop  \n",
      "0  0.03435374149659865%   $43296.35860306644    2341093M_2489527F  \n",
      "1   1.0586826347305378%   $70354.74390243902      384160M_349215F  \n",
      "2  0.16763157894736833%   $54207.82095490716    3299088M_3342840F  \n",
      "3  0.14686131386861315%   $41935.63396778917    1451913M_1506295F  \n",
      "4  0.35141038442336353%   $67264.78230266465  19087135M_19334329F  \n",
      "5                   NaN  $64657.801787164906    2648667M_2630239F  \n"
     ]
    }
   ],
   "source": [
    "state = pd.read_csv('states0.csv')\n",
    "print(state)"
   ]
  },
  {
   "cell_type": "code",
   "execution_count": 11,
   "metadata": {},
   "outputs": [
    {
     "data": {
      "text/plain": [
       "Unnamed: 0     int64\n",
       "State         object\n",
       "TotalPop       int64\n",
       "Hispanic      object\n",
       "White         object\n",
       "Black         object\n",
       "Native        object\n",
       "Asian         object\n",
       "Pacific       object\n",
       "Income        object\n",
       "GenderPop     object\n",
       "dtype: object"
      ]
     },
     "execution_count": 11,
     "metadata": {},
     "output_type": "execute_result"
    }
   ],
   "source": [
    "state.dtypes"
   ]
  },
  {
   "cell_type": "code",
   "execution_count": null,
   "metadata": {},
   "outputs": [],
   "source": []
  }
 ],
 "metadata": {
  "kernelspec": {
   "display_name": "Python 3",
   "language": "python",
   "name": "python3"
  },
  "language_info": {
   "codemirror_mode": {
    "name": "ipython",
    "version": 3
   },
   "file_extension": ".py",
   "mimetype": "text/x-python",
   "name": "python",
   "nbconvert_exporter": "python",
   "pygments_lexer": "ipython3",
   "version": "3.8.3"
  }
 },
 "nbformat": 4,
 "nbformat_minor": 4
}
